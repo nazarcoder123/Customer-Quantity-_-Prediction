{
 "cells": [
  {
   "cell_type": "markdown",
   "id": "255d0eb0",
   "metadata": {
    "papermill": {
     "duration": 0.005506,
     "end_time": "2023-05-20T07:52:07.446720",
     "exception": false,
     "start_time": "2023-05-20T07:52:07.441214",
     "status": "completed"
    },
    "tags": []
   },
   "source": [
    "## Option 2: Prediction"
   ]
  },
  {
   "cell_type": "code",
   "execution_count": 1,
   "id": "e74e24f3",
   "metadata": {
    "execution": {
     "iopub.execute_input": "2023-05-20T07:52:07.458725Z",
     "iopub.status.busy": "2023-05-20T07:52:07.458088Z",
     "iopub.status.idle": "2023-05-20T07:52:08.767080Z",
     "shell.execute_reply": "2023-05-20T07:52:08.766007Z"
    },
    "papermill": {
     "duration": 1.317962,
     "end_time": "2023-05-20T07:52:08.769775",
     "exception": false,
     "start_time": "2023-05-20T07:52:07.451813",
     "status": "completed"
    },
    "tags": []
   },
   "outputs": [
    {
     "name": "stderr",
     "output_type": "stream",
     "text": [
      "/opt/conda/lib/python3.10/site-packages/scipy/__init__.py:146: UserWarning: A NumPy version >=1.16.5 and <1.23.0 is required for this version of SciPy (detected version 1.23.5\n",
      "  warnings.warn(f\"A NumPy version >={np_minversion} and <{np_maxversion}\"\n"
     ]
    }
   ],
   "source": [
    "import pandas as pd\n",
    "import numpy as np\n",
    "import pandas as pd\n",
    "from sklearn.compose import ColumnTransformer\n",
    "from sklearn.preprocessing import OneHotEncoder\n",
    "from sklearn.linear_model import LinearRegression\n",
    "\n",
    "from sklearn.linear_model import LogisticRegression"
   ]
  },
  {
   "cell_type": "code",
   "execution_count": 2,
   "id": "0be8a1f5",
   "metadata": {
    "execution": {
     "iopub.execute_input": "2023-05-20T07:52:08.781706Z",
     "iopub.status.busy": "2023-05-20T07:52:08.781095Z",
     "iopub.status.idle": "2023-05-20T07:53:21.431556Z",
     "shell.execute_reply": "2023-05-20T07:53:21.430591Z"
    },
    "papermill": {
     "duration": 72.659174,
     "end_time": "2023-05-20T07:53:21.434248",
     "exception": false,
     "start_time": "2023-05-20T07:52:08.775074",
     "status": "completed"
    },
    "tags": []
   },
   "outputs": [],
   "source": [
    "df = pd.read_excel(\"/kaggle/input/online-retail/Online Retail.xlsx\")"
   ]
  },
  {
   "cell_type": "markdown",
   "id": "08e79bee",
   "metadata": {
    "papermill": {
     "duration": 0.004935,
     "end_time": "2023-05-20T07:53:21.445036",
     "exception": false,
     "start_time": "2023-05-20T07:53:21.440101",
     "status": "completed"
    },
    "tags": []
   },
   "source": [
    "## Data Processing"
   ]
  },
  {
   "cell_type": "code",
   "execution_count": 3,
   "id": "04b70fcc",
   "metadata": {
    "execution": {
     "iopub.execute_input": "2023-05-20T07:53:21.457263Z",
     "iopub.status.busy": "2023-05-20T07:53:21.456424Z",
     "iopub.status.idle": "2023-05-20T07:53:21.604048Z",
     "shell.execute_reply": "2023-05-20T07:53:21.602872Z"
    },
    "papermill": {
     "duration": 0.156179,
     "end_time": "2023-05-20T07:53:21.606248",
     "exception": false,
     "start_time": "2023-05-20T07:53:21.450069",
     "status": "completed"
    },
    "tags": []
   },
   "outputs": [
    {
     "data": {
      "text/html": [
       "<div>\n",
       "<style scoped>\n",
       "    .dataframe tbody tr th:only-of-type {\n",
       "        vertical-align: middle;\n",
       "    }\n",
       "\n",
       "    .dataframe tbody tr th {\n",
       "        vertical-align: top;\n",
       "    }\n",
       "\n",
       "    .dataframe thead th {\n",
       "        text-align: right;\n",
       "    }\n",
       "</style>\n",
       "<table border=\"1\" class=\"dataframe\">\n",
       "  <thead>\n",
       "    <tr style=\"text-align: right;\">\n",
       "      <th></th>\n",
       "      <th>InvoiceNo</th>\n",
       "      <th>StockCode</th>\n",
       "      <th>Description</th>\n",
       "      <th>Quantity</th>\n",
       "      <th>InvoiceDate</th>\n",
       "      <th>UnitPrice</th>\n",
       "      <th>CustomerID</th>\n",
       "      <th>Country</th>\n",
       "    </tr>\n",
       "  </thead>\n",
       "  <tbody>\n",
       "    <tr>\n",
       "      <th>0</th>\n",
       "      <td>536365</td>\n",
       "      <td>85123A</td>\n",
       "      <td>WHITE HANGING HEART T-LIGHT HOLDER</td>\n",
       "      <td>6</td>\n",
       "      <td>2010-12-01 08:26:00</td>\n",
       "      <td>2.55</td>\n",
       "      <td>17850.0</td>\n",
       "      <td>United Kingdom</td>\n",
       "    </tr>\n",
       "    <tr>\n",
       "      <th>1</th>\n",
       "      <td>536365</td>\n",
       "      <td>71053</td>\n",
       "      <td>WHITE METAL LANTERN</td>\n",
       "      <td>6</td>\n",
       "      <td>2010-12-01 08:26:00</td>\n",
       "      <td>3.39</td>\n",
       "      <td>17850.0</td>\n",
       "      <td>United Kingdom</td>\n",
       "    </tr>\n",
       "    <tr>\n",
       "      <th>2</th>\n",
       "      <td>536365</td>\n",
       "      <td>84406B</td>\n",
       "      <td>CREAM CUPID HEARTS COAT HANGER</td>\n",
       "      <td>8</td>\n",
       "      <td>2010-12-01 08:26:00</td>\n",
       "      <td>2.75</td>\n",
       "      <td>17850.0</td>\n",
       "      <td>United Kingdom</td>\n",
       "    </tr>\n",
       "    <tr>\n",
       "      <th>3</th>\n",
       "      <td>536365</td>\n",
       "      <td>84029G</td>\n",
       "      <td>KNITTED UNION FLAG HOT WATER BOTTLE</td>\n",
       "      <td>6</td>\n",
       "      <td>2010-12-01 08:26:00</td>\n",
       "      <td>3.39</td>\n",
       "      <td>17850.0</td>\n",
       "      <td>United Kingdom</td>\n",
       "    </tr>\n",
       "    <tr>\n",
       "      <th>4</th>\n",
       "      <td>536365</td>\n",
       "      <td>84029E</td>\n",
       "      <td>RED WOOLLY HOTTIE WHITE HEART.</td>\n",
       "      <td>6</td>\n",
       "      <td>2010-12-01 08:26:00</td>\n",
       "      <td>3.39</td>\n",
       "      <td>17850.0</td>\n",
       "      <td>United Kingdom</td>\n",
       "    </tr>\n",
       "  </tbody>\n",
       "</table>\n",
       "</div>"
      ],
      "text/plain": [
       "  InvoiceNo StockCode                          Description  Quantity  \\\n",
       "0    536365    85123A   WHITE HANGING HEART T-LIGHT HOLDER         6   \n",
       "1    536365     71053                  WHITE METAL LANTERN         6   \n",
       "2    536365    84406B       CREAM CUPID HEARTS COAT HANGER         8   \n",
       "3    536365    84029G  KNITTED UNION FLAG HOT WATER BOTTLE         6   \n",
       "4    536365    84029E       RED WOOLLY HOTTIE WHITE HEART.         6   \n",
       "\n",
       "          InvoiceDate  UnitPrice  CustomerID         Country  \n",
       "0 2010-12-01 08:26:00       2.55     17850.0  United Kingdom  \n",
       "1 2010-12-01 08:26:00       3.39     17850.0  United Kingdom  \n",
       "2 2010-12-01 08:26:00       2.75     17850.0  United Kingdom  \n",
       "3 2010-12-01 08:26:00       3.39     17850.0  United Kingdom  \n",
       "4 2010-12-01 08:26:00       3.39     17850.0  United Kingdom  "
      ]
     },
     "execution_count": 3,
     "metadata": {},
     "output_type": "execute_result"
    }
   ],
   "source": [
    "# In this lets see the first five row's\n",
    "df.head()"
   ]
  },
  {
   "cell_type": "code",
   "execution_count": 4,
   "id": "13e6dac4",
   "metadata": {
    "execution": {
     "iopub.execute_input": "2023-05-20T07:53:21.619116Z",
     "iopub.status.busy": "2023-05-20T07:53:21.618309Z",
     "iopub.status.idle": "2023-05-20T07:53:21.625933Z",
     "shell.execute_reply": "2023-05-20T07:53:21.624795Z"
    },
    "papermill": {
     "duration": 0.016489,
     "end_time": "2023-05-20T07:53:21.628095",
     "exception": false,
     "start_time": "2023-05-20T07:53:21.611606",
     "status": "completed"
    },
    "tags": []
   },
   "outputs": [
    {
     "data": {
      "text/plain": [
       "(541909, 8)"
      ]
     },
     "execution_count": 4,
     "metadata": {},
     "output_type": "execute_result"
    }
   ],
   "source": [
    "# In this we will see the Total number of rows and columns\n",
    "df.shape"
   ]
  },
  {
   "cell_type": "code",
   "execution_count": 5,
   "id": "8a675303",
   "metadata": {
    "execution": {
     "iopub.execute_input": "2023-05-20T07:53:21.641471Z",
     "iopub.status.busy": "2023-05-20T07:53:21.641079Z",
     "iopub.status.idle": "2023-05-20T07:53:21.647780Z",
     "shell.execute_reply": "2023-05-20T07:53:21.646711Z"
    },
    "papermill": {
     "duration": 0.016139,
     "end_time": "2023-05-20T07:53:21.650025",
     "exception": false,
     "start_time": "2023-05-20T07:53:21.633886",
     "status": "completed"
    },
    "tags": []
   },
   "outputs": [
    {
     "data": {
      "text/plain": [
       "Index(['InvoiceNo', 'StockCode', 'Description', 'Quantity', 'InvoiceDate',\n",
       "       'UnitPrice', 'CustomerID', 'Country'],\n",
       "      dtype='object')"
      ]
     },
     "execution_count": 5,
     "metadata": {},
     "output_type": "execute_result"
    }
   ],
   "source": [
    "# In this lets see the total columns name\n",
    "df.columns"
   ]
  },
  {
   "cell_type": "code",
   "execution_count": 6,
   "id": "e1dca69a",
   "metadata": {
    "execution": {
     "iopub.execute_input": "2023-05-20T07:53:21.663696Z",
     "iopub.status.busy": "2023-05-20T07:53:21.663290Z",
     "iopub.status.idle": "2023-05-20T07:53:22.005704Z",
     "shell.execute_reply": "2023-05-20T07:53:22.004507Z"
    },
    "papermill": {
     "duration": 0.352243,
     "end_time": "2023-05-20T07:53:22.008013",
     "exception": false,
     "start_time": "2023-05-20T07:53:21.655770",
     "status": "completed"
    },
    "tags": []
   },
   "outputs": [
    {
     "name": "stdout",
     "output_type": "stream",
     "text": [
      "<class 'pandas.core.frame.DataFrame'>\n",
      "RangeIndex: 541909 entries, 0 to 541908\n",
      "Data columns (total 8 columns):\n",
      " #   Column       Non-Null Count   Dtype         \n",
      "---  ------       --------------   -----         \n",
      " 0   InvoiceNo    541909 non-null  object        \n",
      " 1   StockCode    541909 non-null  object        \n",
      " 2   Description  540455 non-null  object        \n",
      " 3   Quantity     541909 non-null  int64         \n",
      " 4   InvoiceDate  541909 non-null  datetime64[ns]\n",
      " 5   UnitPrice    541909 non-null  float64       \n",
      " 6   CustomerID   406829 non-null  float64       \n",
      " 7   Country      541909 non-null  object        \n",
      "dtypes: datetime64[ns](1), float64(2), int64(1), object(4)\n",
      "memory usage: 33.1+ MB\n"
     ]
    }
   ],
   "source": [
    "# In this we check the dtype of the data \n",
    "df.info()"
   ]
  },
  {
   "cell_type": "code",
   "execution_count": 7,
   "id": "f28610ba",
   "metadata": {
    "execution": {
     "iopub.execute_input": "2023-05-20T07:53:22.021372Z",
     "iopub.status.busy": "2023-05-20T07:53:22.020584Z",
     "iopub.status.idle": "2023-05-20T07:53:22.332852Z",
     "shell.execute_reply": "2023-05-20T07:53:22.331807Z"
    },
    "papermill": {
     "duration": 0.321415,
     "end_time": "2023-05-20T07:53:22.335202",
     "exception": false,
     "start_time": "2023-05-20T07:53:22.013787",
     "status": "completed"
    },
    "tags": []
   },
   "outputs": [
    {
     "data": {
      "text/plain": [
       "InvoiceNo           0\n",
       "StockCode           0\n",
       "Description      1454\n",
       "Quantity            0\n",
       "InvoiceDate         0\n",
       "UnitPrice           0\n",
       "CustomerID     135080\n",
       "Country             0\n",
       "dtype: int64"
      ]
     },
     "execution_count": 7,
     "metadata": {},
     "output_type": "execute_result"
    }
   ],
   "source": [
    "# Lets us check the null values\n",
    "df.isnull().sum()"
   ]
  },
  {
   "cell_type": "code",
   "execution_count": 8,
   "id": "c52d44cb",
   "metadata": {
    "execution": {
     "iopub.execute_input": "2023-05-20T07:53:22.348497Z",
     "iopub.status.busy": "2023-05-20T07:53:22.348142Z",
     "iopub.status.idle": "2023-05-20T07:53:22.701003Z",
     "shell.execute_reply": "2023-05-20T07:53:22.699658Z"
    },
    "papermill": {
     "duration": 0.362357,
     "end_time": "2023-05-20T07:53:22.703452",
     "exception": false,
     "start_time": "2023-05-20T07:53:22.341095",
     "status": "completed"
    },
    "tags": []
   },
   "outputs": [],
   "source": [
    "# Dropping rows with null values\n",
    "df = df.dropna()"
   ]
  },
  {
   "cell_type": "code",
   "execution_count": 9,
   "id": "7672b313",
   "metadata": {
    "execution": {
     "iopub.execute_input": "2023-05-20T07:53:22.717296Z",
     "iopub.status.busy": "2023-05-20T07:53:22.716548Z",
     "iopub.status.idle": "2023-05-20T07:53:22.953316Z",
     "shell.execute_reply": "2023-05-20T07:53:22.952193Z"
    },
    "papermill": {
     "duration": 0.246376,
     "end_time": "2023-05-20T07:53:22.955749",
     "exception": false,
     "start_time": "2023-05-20T07:53:22.709373",
     "status": "completed"
    },
    "tags": []
   },
   "outputs": [
    {
     "data": {
      "text/plain": [
       "InvoiceNo      0\n",
       "StockCode      0\n",
       "Description    0\n",
       "Quantity       0\n",
       "InvoiceDate    0\n",
       "UnitPrice      0\n",
       "CustomerID     0\n",
       "Country        0\n",
       "dtype: int64"
      ]
     },
     "execution_count": 9,
     "metadata": {},
     "output_type": "execute_result"
    }
   ],
   "source": [
    "# Now we have drop the null values\n",
    "df.isnull().sum()"
   ]
  },
  {
   "cell_type": "markdown",
   "id": "22abaf95",
   "metadata": {
    "papermill": {
     "duration": 0.00545,
     "end_time": "2023-05-20T07:53:22.967233",
     "exception": false,
     "start_time": "2023-05-20T07:53:22.961783",
     "status": "completed"
    },
    "tags": []
   },
   "source": [
    "## Pivoting"
   ]
  },
  {
   "cell_type": "code",
   "execution_count": 10,
   "id": "472e0216",
   "metadata": {
    "execution": {
     "iopub.execute_input": "2023-05-20T07:53:22.980556Z",
     "iopub.status.busy": "2023-05-20T07:53:22.979859Z",
     "iopub.status.idle": "2023-05-20T07:53:23.081087Z",
     "shell.execute_reply": "2023-05-20T07:53:23.080132Z"
    },
    "papermill": {
     "duration": 0.110375,
     "end_time": "2023-05-20T07:53:23.083251",
     "exception": false,
     "start_time": "2023-05-20T07:53:22.972876",
     "status": "completed"
    },
    "tags": []
   },
   "outputs": [
    {
     "data": {
      "text/html": [
       "<div>\n",
       "<style scoped>\n",
       "    .dataframe tbody tr th:only-of-type {\n",
       "        vertical-align: middle;\n",
       "    }\n",
       "\n",
       "    .dataframe tbody tr th {\n",
       "        vertical-align: top;\n",
       "    }\n",
       "\n",
       "    .dataframe thead th {\n",
       "        text-align: right;\n",
       "    }\n",
       "</style>\n",
       "<table border=\"1\" class=\"dataframe\">\n",
       "  <thead>\n",
       "    <tr style=\"text-align: right;\">\n",
       "      <th></th>\n",
       "      <th></th>\n",
       "      <th>Quantity</th>\n",
       "      <th>UnitPrice</th>\n",
       "    </tr>\n",
       "    <tr>\n",
       "      <th>CustomerID</th>\n",
       "      <th>InvoiceDate</th>\n",
       "      <th></th>\n",
       "      <th></th>\n",
       "    </tr>\n",
       "  </thead>\n",
       "  <tbody>\n",
       "    <tr>\n",
       "      <th rowspan=\"2\" valign=\"top\">12346.0</th>\n",
       "      <th>2011-01-18 10:01:00</th>\n",
       "      <td>74215</td>\n",
       "      <td>1.04</td>\n",
       "    </tr>\n",
       "    <tr>\n",
       "      <th>2011-01-18 10:17:00</th>\n",
       "      <td>-74215</td>\n",
       "      <td>1.04</td>\n",
       "    </tr>\n",
       "    <tr>\n",
       "      <th rowspan=\"3\" valign=\"top\">12347.0</th>\n",
       "      <th>2010-12-07 14:57:00</th>\n",
       "      <td>319</td>\n",
       "      <td>89.59</td>\n",
       "    </tr>\n",
       "    <tr>\n",
       "      <th>2011-01-26 14:30:00</th>\n",
       "      <td>315</td>\n",
       "      <td>73.17</td>\n",
       "    </tr>\n",
       "    <tr>\n",
       "      <th>2011-04-07 10:43:00</th>\n",
       "      <td>483</td>\n",
       "      <td>62.29</td>\n",
       "    </tr>\n",
       "    <tr>\n",
       "      <th>...</th>\n",
       "      <th>...</th>\n",
       "      <td>...</td>\n",
       "      <td>...</td>\n",
       "    </tr>\n",
       "    <tr>\n",
       "      <th rowspan=\"2\" valign=\"top\">18283.0</th>\n",
       "      <th>2011-11-30 12:59:00</th>\n",
       "      <td>134</td>\n",
       "      <td>85.08</td>\n",
       "    </tr>\n",
       "    <tr>\n",
       "      <th>2011-12-06 12:02:00</th>\n",
       "      <td>142</td>\n",
       "      <td>65.38</td>\n",
       "    </tr>\n",
       "    <tr>\n",
       "      <th rowspan=\"3\" valign=\"top\">18287.0</th>\n",
       "      <th>2011-05-22 10:39:00</th>\n",
       "      <td>488</td>\n",
       "      <td>56.92</td>\n",
       "    </tr>\n",
       "    <tr>\n",
       "      <th>2011-10-12 10:23:00</th>\n",
       "      <td>990</td>\n",
       "      <td>45.70</td>\n",
       "    </tr>\n",
       "    <tr>\n",
       "      <th>2011-10-28 09:29:00</th>\n",
       "      <td>108</td>\n",
       "      <td>1.93</td>\n",
       "    </tr>\n",
       "  </tbody>\n",
       "</table>\n",
       "<p>22034 rows × 2 columns</p>\n",
       "</div>"
      ],
      "text/plain": [
       "                                Quantity  UnitPrice\n",
       "CustomerID InvoiceDate                             \n",
       "12346.0    2011-01-18 10:01:00     74215       1.04\n",
       "           2011-01-18 10:17:00    -74215       1.04\n",
       "12347.0    2010-12-07 14:57:00       319      89.59\n",
       "           2011-01-26 14:30:00       315      73.17\n",
       "           2011-04-07 10:43:00       483      62.29\n",
       "...                                  ...        ...\n",
       "18283.0    2011-11-30 12:59:00       134      85.08\n",
       "           2011-12-06 12:02:00       142      65.38\n",
       "18287.0    2011-05-22 10:39:00       488      56.92\n",
       "           2011-10-12 10:23:00       990      45.70\n",
       "           2011-10-28 09:29:00       108       1.93\n",
       "\n",
       "[22034 rows x 2 columns]"
      ]
     },
     "execution_count": 10,
     "metadata": {},
     "output_type": "execute_result"
    }
   ],
   "source": [
    "# Create a pivot table to aggregate Quantity and UnitPrice by CustomerID and InvoiceDate\n",
    "pivot_table = pd.pivot_table(df, values=['Quantity', 'UnitPrice'], index=['CustomerID', 'InvoiceDate'], aggfunc=np.sum)\n",
    "pivot_table"
   ]
  },
  {
   "cell_type": "code",
   "execution_count": 11,
   "id": "71492942",
   "metadata": {
    "execution": {
     "iopub.execute_input": "2023-05-20T07:53:23.097919Z",
     "iopub.status.busy": "2023-05-20T07:53:23.097153Z",
     "iopub.status.idle": "2023-05-20T07:53:23.113837Z",
     "shell.execute_reply": "2023-05-20T07:53:23.112803Z"
    },
    "papermill": {
     "duration": 0.026557,
     "end_time": "2023-05-20T07:53:23.115920",
     "exception": false,
     "start_time": "2023-05-20T07:53:23.089363",
     "status": "completed"
    },
    "tags": []
   },
   "outputs": [
    {
     "data": {
      "text/html": [
       "<div>\n",
       "<style scoped>\n",
       "    .dataframe tbody tr th:only-of-type {\n",
       "        vertical-align: middle;\n",
       "    }\n",
       "\n",
       "    .dataframe tbody tr th {\n",
       "        vertical-align: top;\n",
       "    }\n",
       "\n",
       "    .dataframe thead th {\n",
       "        text-align: right;\n",
       "    }\n",
       "</style>\n",
       "<table border=\"1\" class=\"dataframe\">\n",
       "  <thead>\n",
       "    <tr style=\"text-align: right;\">\n",
       "      <th></th>\n",
       "      <th>CustomerID</th>\n",
       "      <th>InvoiceDate</th>\n",
       "      <th>Quantity</th>\n",
       "      <th>UnitPrice</th>\n",
       "    </tr>\n",
       "  </thead>\n",
       "  <tbody>\n",
       "    <tr>\n",
       "      <th>0</th>\n",
       "      <td>12346.0</td>\n",
       "      <td>2011-01-18 10:01:00</td>\n",
       "      <td>74215</td>\n",
       "      <td>1.04</td>\n",
       "    </tr>\n",
       "    <tr>\n",
       "      <th>1</th>\n",
       "      <td>12346.0</td>\n",
       "      <td>2011-01-18 10:17:00</td>\n",
       "      <td>-74215</td>\n",
       "      <td>1.04</td>\n",
       "    </tr>\n",
       "    <tr>\n",
       "      <th>2</th>\n",
       "      <td>12347.0</td>\n",
       "      <td>2010-12-07 14:57:00</td>\n",
       "      <td>319</td>\n",
       "      <td>89.59</td>\n",
       "    </tr>\n",
       "    <tr>\n",
       "      <th>3</th>\n",
       "      <td>12347.0</td>\n",
       "      <td>2011-01-26 14:30:00</td>\n",
       "      <td>315</td>\n",
       "      <td>73.17</td>\n",
       "    </tr>\n",
       "    <tr>\n",
       "      <th>4</th>\n",
       "      <td>12347.0</td>\n",
       "      <td>2011-04-07 10:43:00</td>\n",
       "      <td>483</td>\n",
       "      <td>62.29</td>\n",
       "    </tr>\n",
       "    <tr>\n",
       "      <th>...</th>\n",
       "      <td>...</td>\n",
       "      <td>...</td>\n",
       "      <td>...</td>\n",
       "      <td>...</td>\n",
       "    </tr>\n",
       "    <tr>\n",
       "      <th>22029</th>\n",
       "      <td>18283.0</td>\n",
       "      <td>2011-11-30 12:59:00</td>\n",
       "      <td>134</td>\n",
       "      <td>85.08</td>\n",
       "    </tr>\n",
       "    <tr>\n",
       "      <th>22030</th>\n",
       "      <td>18283.0</td>\n",
       "      <td>2011-12-06 12:02:00</td>\n",
       "      <td>142</td>\n",
       "      <td>65.38</td>\n",
       "    </tr>\n",
       "    <tr>\n",
       "      <th>22031</th>\n",
       "      <td>18287.0</td>\n",
       "      <td>2011-05-22 10:39:00</td>\n",
       "      <td>488</td>\n",
       "      <td>56.92</td>\n",
       "    </tr>\n",
       "    <tr>\n",
       "      <th>22032</th>\n",
       "      <td>18287.0</td>\n",
       "      <td>2011-10-12 10:23:00</td>\n",
       "      <td>990</td>\n",
       "      <td>45.70</td>\n",
       "    </tr>\n",
       "    <tr>\n",
       "      <th>22033</th>\n",
       "      <td>18287.0</td>\n",
       "      <td>2011-10-28 09:29:00</td>\n",
       "      <td>108</td>\n",
       "      <td>1.93</td>\n",
       "    </tr>\n",
       "  </tbody>\n",
       "</table>\n",
       "<p>22034 rows × 4 columns</p>\n",
       "</div>"
      ],
      "text/plain": [
       "       CustomerID         InvoiceDate  Quantity  UnitPrice\n",
       "0         12346.0 2011-01-18 10:01:00     74215       1.04\n",
       "1         12346.0 2011-01-18 10:17:00    -74215       1.04\n",
       "2         12347.0 2010-12-07 14:57:00       319      89.59\n",
       "3         12347.0 2011-01-26 14:30:00       315      73.17\n",
       "4         12347.0 2011-04-07 10:43:00       483      62.29\n",
       "...           ...                 ...       ...        ...\n",
       "22029     18283.0 2011-11-30 12:59:00       134      85.08\n",
       "22030     18283.0 2011-12-06 12:02:00       142      65.38\n",
       "22031     18287.0 2011-05-22 10:39:00       488      56.92\n",
       "22032     18287.0 2011-10-12 10:23:00       990      45.70\n",
       "22033     18287.0 2011-10-28 09:29:00       108       1.93\n",
       "\n",
       "[22034 rows x 4 columns]"
      ]
     },
     "execution_count": 11,
     "metadata": {},
     "output_type": "execute_result"
    }
   ],
   "source": [
    "# Reset index to convert the multi-level index to columns\n",
    "pivot_table = pivot_table.reset_index()\n",
    "pivot_table"
   ]
  },
  {
   "cell_type": "markdown",
   "id": "3d4ebf7e",
   "metadata": {
    "papermill": {
     "duration": 0.006438,
     "end_time": "2023-05-20T07:53:23.128904",
     "exception": false,
     "start_time": "2023-05-20T07:53:23.122466",
     "status": "completed"
    },
    "tags": []
   },
   "source": [
    "## Filtering Data"
   ]
  },
  {
   "cell_type": "code",
   "execution_count": 12,
   "id": "4bdca200",
   "metadata": {
    "execution": {
     "iopub.execute_input": "2023-05-20T07:53:23.143627Z",
     "iopub.status.busy": "2023-05-20T07:53:23.143258Z",
     "iopub.status.idle": "2023-05-20T07:53:23.302248Z",
     "shell.execute_reply": "2023-05-20T07:53:23.301172Z"
    },
    "papermill": {
     "duration": 0.169145,
     "end_time": "2023-05-20T07:53:23.304762",
     "exception": false,
     "start_time": "2023-05-20T07:53:23.135617",
     "status": "completed"
    },
    "tags": []
   },
   "outputs": [],
   "source": [
    "# Filter the data for the specific Customer ID and Date\n",
    "customer_id = 17854\n",
    "date = 2010-12-1\n",
    "filtered_data = df[(df['CustomerID'] == customer_id) & (df['InvoiceDate'].dt.date == pd.to_datetime(date).date())]"
   ]
  },
  {
   "cell_type": "markdown",
   "id": "052d943e",
   "metadata": {
    "papermill": {
     "duration": 0.00605,
     "end_time": "2023-05-20T07:53:23.317265",
     "exception": false,
     "start_time": "2023-05-20T07:53:23.311215",
     "status": "completed"
    },
    "tags": []
   },
   "source": [
    "## Feature Engineering & Model Prediction"
   ]
  },
  {
   "cell_type": "code",
   "execution_count": 13,
   "id": "a401201b",
   "metadata": {
    "execution": {
     "iopub.execute_input": "2023-05-20T07:53:23.332014Z",
     "iopub.status.busy": "2023-05-20T07:53:23.331205Z",
     "iopub.status.idle": "2023-05-20T07:53:23.378381Z",
     "shell.execute_reply": "2023-05-20T07:53:23.377243Z"
    },
    "papermill": {
     "duration": 0.057197,
     "end_time": "2023-05-20T07:53:23.380764",
     "exception": false,
     "start_time": "2023-05-20T07:53:23.323567",
     "status": "completed"
    },
    "tags": []
   },
   "outputs": [
    {
     "name": "stdout",
     "output_type": "stream",
     "text": [
      "Predicted quantity for Customer ID 17850.0 on 2010-12-01 08:26:00: 5.6000000000000005\n"
     ]
    }
   ],
   "source": [
    "customer_id = 17850.0\n",
    "date = '2010-12-01 08:26:00'\n",
    "\n",
    "filtered_data = df[(df['CustomerID'] == customer_id) & (df['InvoiceDate'] == pd.to_datetime(date))]\n",
    "\n",
    "if filtered_data.empty:\n",
    "    print(\"No data found for the specified Customer ID and Date.\")\n",
    "else:\n",
    "    # Step 2: Training a Model\n",
    "    X = filtered_data[['InvoiceNo', 'UnitPrice']]\n",
    "    y = filtered_data['Quantity']\n",
    "\n",
    "    # One-hot encode the 'StockCode' column\n",
    "    #ct = ColumnTransformer([('encoder', OneHotEncoder(), [0])], remainder='passthrough')\n",
    "    #X_encoded = ct.fit_transform(X)\n",
    "    \n",
    "    ct = ColumnTransformer(transformers=[('encoder', OneHotEncoder(handle_unknown='ignore'), [0, 1])], remainder='passthrough')\n",
    "    X_encoded = ct.fit_transform(X)\n",
    "\n",
    "    model = LinearRegression()\n",
    "    model.fit(X_encoded, y)\n",
    "\n",
    "    # Step 3: Predicting Quantity\n",
    "    new_data = pd.DataFrame({'InvoiceNo': ['NEW_INVOICE'], 'StockCode': ['NEW_STOCK'], 'UnitPrice': [0.0]})\n",
    "\n",
    "    if not new_data.empty:\n",
    "        new_data_encoded = ct.transform(new_data)\n",
    "\n",
    "        prediction = model.predict(new_data_encoded)\n",
    "\n",
    "        # Step 4: Print the Prediction\n",
    "        print(f\"Predicted quantity for Customer ID {customer_id} on {date}: {prediction[0]}\")\n",
    "    else:\n",
    "        print(\"New data is empty. Unable to make a prediction.\")"
   ]
  },
  {
   "cell_type": "markdown",
   "id": "1b1aa445",
   "metadata": {
    "papermill": {
     "duration": 0.006253,
     "end_time": "2023-05-20T07:53:23.393516",
     "exception": false,
     "start_time": "2023-05-20T07:53:23.387263",
     "status": "completed"
    },
    "tags": []
   },
   "source": [
    "## Accuracy Evaluating of Model"
   ]
  },
  {
   "cell_type": "code",
   "execution_count": 14,
   "id": "7e09ff0c",
   "metadata": {
    "execution": {
     "iopub.execute_input": "2023-05-20T07:53:23.408604Z",
     "iopub.status.busy": "2023-05-20T07:53:23.407504Z",
     "iopub.status.idle": "2023-05-20T07:53:23.425578Z",
     "shell.execute_reply": "2023-05-20T07:53:23.424505Z"
    },
    "papermill": {
     "duration": 0.027821,
     "end_time": "2023-05-20T07:53:23.427805",
     "exception": false,
     "start_time": "2023-05-20T07:53:23.399984",
     "status": "completed"
    },
    "tags": []
   },
   "outputs": [
    {
     "name": "stdout",
     "output_type": "stream",
     "text": [
      "Predicted quantity for Customer ID 17850.0 on 2010-12-01 08:26:00: 5.6000000000000005\n",
      "Mean Squared Error: 3.6625684885261264e-31\n"
     ]
    }
   ],
   "source": [
    "from sklearn.metrics import mean_squared_error\n",
    "\n",
    "# Step 2: Training a Model\n",
    "X = filtered_data[['InvoiceNo', 'UnitPrice']]\n",
    "y = filtered_data['Quantity']\n",
    "\n",
    "# One-hot encode the 'StockCode' column\n",
    "ct = ColumnTransformer(transformers=[('encoder', OneHotEncoder(handle_unknown='ignore'), [0, 1])], remainder='passthrough')\n",
    "X_encoded = ct.fit_transform(X)\n",
    "\n",
    "model = LinearRegression()\n",
    "model.fit(X_encoded, y)\n",
    "\n",
    "# Step 3: Predicting Quantity\n",
    "new_data = pd.DataFrame({'InvoiceNo': ['NEW_INVOICE'], 'StockCode': ['NEW_STOCK'], 'UnitPrice': [0.0]})\n",
    "\n",
    "if not new_data.empty:\n",
    "    new_data_encoded = ct.transform(new_data)\n",
    "\n",
    "    prediction = model.predict(new_data_encoded)\n",
    "\n",
    "    # Step 4: Print the Prediction\n",
    "    print(f\"Predicted quantity for Customer ID {customer_id} on {date}: {prediction[0]}\")\n",
    "    \n",
    "    # Step 5: Calculate Mean Squared Error (MSE)\n",
    "    y_pred = model.predict(X_encoded)\n",
    "    mse = mean_squared_error(y, y_pred)\n",
    "    print(f\"Mean Squared Error: {mse}\")\n",
    "else:\n",
    "    print(\"New data is empty. Unable to make a prediction.\")"
   ]
  },
  {
   "cell_type": "markdown",
   "id": "cdea3b76",
   "metadata": {
    "papermill": {
     "duration": 0.006198,
     "end_time": "2023-05-20T07:53:23.440866",
     "exception": false,
     "start_time": "2023-05-20T07:53:23.434668",
     "status": "completed"
    },
    "tags": []
   },
   "source": [
    "\n",
    "## The above code performs a linear regression model to predict the quantity of items for a specific customer on a given date. Here's a      step-by-step description of the code."
   ]
  },
  {
   "cell_type": "markdown",
   "id": "13390388",
   "metadata": {
    "papermill": {
     "duration": 0.006567,
     "end_time": "2023-05-20T07:53:23.454212",
     "exception": false,
     "start_time": "2023-05-20T07:53:23.447645",
     "status": "completed"
    },
    "tags": []
   },
   "source": [
    "1.The code reads an Excel file containing retail data using pandas.\n",
    "\n",
    "2.It filters the data based on a specific customer ID and date to obtain a subset of records.\n",
    "\n",
    "3.If the filtered data is not empty, the code proceeds to train a linear regression model to predict the quantity of items.\n",
    "\n",
    "4.The features used for training are 'InvoiceNo' and 'UnitPrice', and the target variable is 'Quantity'.\n",
    "\n",
    "5.The 'InvoiceNo' and 'UnitPrice' columns are encoded using one-hot encoding, while the remaining columns are left unchanged.\n",
    "\n",
    "6.The linear regression model is fitted on the encoded features and target variable.\n",
    "\n",
    "7.The code then creates new data with a hypothetical 'InvoiceNo', 'StockCode', and 'UnitPrice'.\n",
    "\n",
    "8.If the new data is not empty, it is encoded using the same column transformer.\n",
    "\n",
    "9.The trained model is used to predict the quantity of items for the new data.\n",
    "\n",
    "10.Finally, the predicted quantity is printed as the output."
   ]
  },
  {
   "cell_type": "markdown",
   "id": "082a2d1a",
   "metadata": {
    "papermill": {
     "duration": 0.006529,
     "end_time": "2023-05-20T07:53:23.467183",
     "exception": false,
     "start_time": "2023-05-20T07:53:23.460654",
     "status": "completed"
    },
    "tags": []
   },
   "source": [
    "## Additionally, the code calculates the mean squared error (MSE) to evaluate the model's accuracy. A very low MSE value suggests that       the model's predictions are very close to the actual values."
   ]
  }
 ],
 "metadata": {
  "kernelspec": {
   "display_name": "Python 3",
   "language": "python",
   "name": "python3"
  },
  "language_info": {
   "codemirror_mode": {
    "name": "ipython",
    "version": 3
   },
   "file_extension": ".py",
   "mimetype": "text/x-python",
   "name": "python",
   "nbconvert_exporter": "python",
   "pygments_lexer": "ipython3",
   "version": "3.10.10"
  },
  "papermill": {
   "default_parameters": {},
   "duration": 86.995286,
   "end_time": "2023-05-20T07:53:24.496528",
   "environment_variables": {},
   "exception": null,
   "input_path": "__notebook__.ipynb",
   "output_path": "__notebook__.ipynb",
   "parameters": {},
   "start_time": "2023-05-20T07:51:57.501242",
   "version": "2.4.0"
  }
 },
 "nbformat": 4,
 "nbformat_minor": 5
}
